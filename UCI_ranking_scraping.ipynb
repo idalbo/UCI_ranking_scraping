{
 "cells": [
  {
   "cell_type": "code",
   "execution_count": null,
   "metadata": {},
   "outputs": [],
   "source": [
    "# Importing libraries\n",
    "import requests\n",
    "import pandas as pd\n",
    "from bs4 import BeautifulSoup\n",
    "\n",
    "for i in range(1,42):\n",
    "    website_url = requests.get('https://firstcycling.com/ranking.php?h=1&rank=1&y=2019-'+str(i)).text\n",
    "\n",
    "    # Parsing page\n",
    "    soup = BeautifulSoup(website_url,'lxml')\n",
    "\n",
    "    # Extract the table from the page\n",
    "    My_table = soup.find('table')\n",
    "\n",
    "    # Find the rows where the race and winner are\n",
    "    rider = My_table.find_all('a')\n",
    "    points = My_table.find_all('td')\n",
    "\n",
    "    rider_name = []\n",
    "    for b in rider:    \n",
    "        rider_name.append(str(b.text))\n",
    "    \n",
    "    points_week = []\n",
    "    for a in points:\n",
    "        points_week.append(str(a.text))\n",
    "        \n",
    "    if i==1:\n",
    "        UCI_rank = pd.DataFrame()\n",
    "        UCI_rank['Rider'] = rider_name\n",
    "        UCI_rank['Week 1'] = points_week[4::5]\n",
    "        del points, rider, points_week, rider_name, My_table, soup, website_url\n",
    "    else:\n",
    "        df = pd.DataFrame()\n",
    "        df['Rider'] = rider_name\n",
    "        df['Week '+str(i)] = points_week[4::5]\n",
    "        UCI_rank =pd.merge(UCI_rank, df, on='Rider')\n",
    "        del points, rider, points_week, rider_name, My_table, soup, website_url, df\n",
    "        \n",
    "UCI_rank.to_excel(\"UCI_rank_2019.xlsx\")"
   ]
  }
 ],
 "metadata": {
  "kernelspec": {
   "display_name": "Python 3",
   "language": "python",
   "name": "python3"
  },
  "language_info": {
   "codemirror_mode": {
    "name": "ipython",
    "version": 3
   },
   "file_extension": ".py",
   "mimetype": "text/x-python",
   "name": "python",
   "nbconvert_exporter": "python",
   "pygments_lexer": "ipython3",
   "version": "3.6.3"
  }
 },
 "nbformat": 4,
 "nbformat_minor": 2
}
